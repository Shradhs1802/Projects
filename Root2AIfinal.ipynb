{
  "nbformat": 4,
  "nbformat_minor": 0,
  "metadata": {
    "colab": {
      "name": "Root2AIfinal.ipynb",
      "provenance": [],
      "authorship_tag": "ABX9TyOXZsLskxrnf5kjPhDu6ayV",
      "include_colab_link": true
    },
    "kernelspec": {
      "name": "python3",
      "display_name": "Python 3"
    },
    "language_info": {
      "name": "python"
    },
    "accelerator": "GPU"
  },
  "cells": [
    {
      "cell_type": "markdown",
      "metadata": {
        "id": "view-in-github",
        "colab_type": "text"
      },
      "source": [
        "<a href=\"https://colab.research.google.com/github/Shradhs1802/sms_spam_detection/blob/main/Root2AIfinal.ipynb\" target=\"_parent\"><img src=\"https://colab.research.google.com/assets/colab-badge.svg\" alt=\"Open In Colab\"/></a>"
      ]
    },
    {
      "cell_type": "markdown",
      "metadata": {
        "id": "pYPHf1kGvE-l"
      },
      "source": [
        "#**Project Report**\n",
        "\n",
        "#I have with me a dataset, on which I have to perform the Exploratory Data Analysis and build a model on the same.\n",
        "\n",
        "#The data seems to be from the Banking Sector. The sample size is 22,704. On first observation we find that the dataset has only two columns i.e. \"Text\" and \"Target\". It is also observed that there are 11 classes in the Target column. So we can say that it will be an example of Multiclass Text Data Classification. \n",
        "\n",
        "#SO let us start by importing the necessary libraries and uploading the dataset.\n",
        " "
      ]
    },
    {
      "cell_type": "code",
      "metadata": {
        "colab": {
          "base_uri": "https://localhost:8080/"
        },
        "id": "o-c2uvdyu6gT",
        "outputId": "03ce32a3-f4d0-4f5a-9d91-4f6d862fc50b"
      },
      "source": [
        "import pandas as pd\n",
        "import matplotlib.pyplot as plt\n",
        "import numpy as np\n",
        "import seaborn as sns\n",
        "%matplotlib inline\n",
        "\n",
        "# Warnings\n",
        "import warnings\n",
        "warnings.filterwarnings('ignore')\n",
        "\n",
        "# Text Preprocessing\n",
        "import nltk\n",
        "nltk.download(\"stopwords\")\n",
        "nltk.download('wordnet')\n",
        "nltk.download('punkt')\n",
        "from nltk.corpus import stopwords\n",
        "import string\n",
        "from nltk.tokenize import word_tokenize\n",
        "from nltk.stem import SnowballStemmer\n",
        "stemmer = SnowballStemmer(\"english\")\n",
        "\n",
        "from wordcloud import WordCloud\n",
        "\n",
        "from sklearn.model_selection import train_test_split\n",
        "from sklearn.feature_extraction.text import TfidfTransformer\n",
        "from sklearn.feature_extraction.text import TfidfVectorizer\n",
        "from sklearn.feature_extraction.text import CountVectorizer\n",
        "from sklearn.preprocessing import LabelEncoder\n",
        "from sklearn.model_selection import cross_val_score\n",
        "from sklearn.metrics import fbeta_score\n",
        "from sklearn.naive_bayes import MultinomialNB\n",
        "from sklearn.calibration import CalibratedClassifierCV\n",
        "from sklearn.metrics import classification_report, f1_score, accuracy_score, confusion_matrix\n",
        "\n",
        "from textblob import TextBlob\n",
        "import pickle\n"
      ],
      "execution_count": 1,
      "outputs": [
        {
          "output_type": "stream",
          "text": [
            "[nltk_data] Downloading package stopwords to /root/nltk_data...\n",
            "[nltk_data]   Unzipping corpora/stopwords.zip.\n",
            "[nltk_data] Downloading package wordnet to /root/nltk_data...\n",
            "[nltk_data]   Unzipping corpora/wordnet.zip.\n",
            "[nltk_data] Downloading package punkt to /root/nltk_data...\n",
            "[nltk_data]   Unzipping tokenizers/punkt.zip.\n"
          ],
          "name": "stdout"
        }
      ]
    },
    {
      "cell_type": "markdown",
      "metadata": {
        "id": "ITIswHZVzvtS"
      },
      "source": [
        "# After downloading the necessary libraries, we need to load the dataset, but for that we need to first mount our Google drive where the dataset is present on our notebook and then upload the dataset."
      ]
    },
    {
      "cell_type": "code",
      "metadata": {
        "colab": {
          "base_uri": "https://localhost:8080/"
        },
        "id": "4SQobBMXzNFD",
        "outputId": "5b2636bd-630c-4a58-bfbb-9e0ae9926602"
      },
      "source": [
        "from google.colab import drive\n",
        "drive.mount('/content/drive')"
      ],
      "execution_count": 2,
      "outputs": [
        {
          "output_type": "stream",
          "text": [
            "Mounted at /content/drive\n"
          ],
          "name": "stdout"
        }
      ]
    },
    {
      "cell_type": "code",
      "metadata": {
        "colab": {
          "base_uri": "https://localhost:8080/",
          "height": 204
        },
        "id": "vs8r0hlgzqa-",
        "outputId": "ffbfaa5d-ad7b-4cba-8ac9-fa664280d65e"
      },
      "source": [
        "data = pd.read_csv('/content/drive/MyDrive/root2ai - Data.csv')\n",
        "data.head()"
      ],
      "execution_count": 3,
      "outputs": [
        {
          "output_type": "execute_result",
          "data": {
            "text/html": [
              "<div>\n",
              "<style scoped>\n",
              "    .dataframe tbody tr th:only-of-type {\n",
              "        vertical-align: middle;\n",
              "    }\n",
              "\n",
              "    .dataframe tbody tr th {\n",
              "        vertical-align: top;\n",
              "    }\n",
              "\n",
              "    .dataframe thead th {\n",
              "        text-align: right;\n",
              "    }\n",
              "</style>\n",
              "<table border=\"1\" class=\"dataframe\">\n",
              "  <thead>\n",
              "    <tr style=\"text-align: right;\">\n",
              "      <th></th>\n",
              "      <th>Text</th>\n",
              "      <th>Target</th>\n",
              "    </tr>\n",
              "  </thead>\n",
              "  <tbody>\n",
              "    <tr>\n",
              "      <th>0</th>\n",
              "      <td>reserve bank forming expert committee based in...</td>\n",
              "      <td>Blockchain</td>\n",
              "    </tr>\n",
              "    <tr>\n",
              "      <th>1</th>\n",
              "      <td>director could play role financial system</td>\n",
              "      <td>Blockchain</td>\n",
              "    </tr>\n",
              "    <tr>\n",
              "      <th>2</th>\n",
              "      <td>preliminary discuss secure transaction study r...</td>\n",
              "      <td>Blockchain</td>\n",
              "    </tr>\n",
              "    <tr>\n",
              "      <th>3</th>\n",
              "      <td>security indeed prove essential transforming f...</td>\n",
              "      <td>Blockchain</td>\n",
              "    </tr>\n",
              "    <tr>\n",
              "      <th>4</th>\n",
              "      <td>bank settlement normally take three days based...</td>\n",
              "      <td>Blockchain</td>\n",
              "    </tr>\n",
              "  </tbody>\n",
              "</table>\n",
              "</div>"
            ],
            "text/plain": [
              "                                                Text      Target\n",
              "0  reserve bank forming expert committee based in...  Blockchain\n",
              "1          director could play role financial system  Blockchain\n",
              "2  preliminary discuss secure transaction study r...  Blockchain\n",
              "3  security indeed prove essential transforming f...  Blockchain\n",
              "4  bank settlement normally take three days based...  Blockchain"
            ]
          },
          "metadata": {
            "tags": []
          },
          "execution_count": 3
        }
      ]
    },
    {
      "cell_type": "markdown",
      "metadata": {
        "id": "IMOacYy1vDT4"
      },
      "source": [
        "#Lets look at the dataset info to see if everything is alright"
      ]
    },
    {
      "cell_type": "code",
      "metadata": {
        "colab": {
          "base_uri": "https://localhost:8080/"
        },
        "id": "Q8fHqv3r0_Qq",
        "outputId": "ee633378-70ab-4253-8a7c-2500d62fca24"
      },
      "source": [
        "data.info()"
      ],
      "execution_count": 4,
      "outputs": [
        {
          "output_type": "stream",
          "text": [
            "<class 'pandas.core.frame.DataFrame'>\n",
            "RangeIndex: 22704 entries, 0 to 22703\n",
            "Data columns (total 2 columns):\n",
            " #   Column  Non-Null Count  Dtype \n",
            "---  ------  --------------  ----- \n",
            " 0   Text    22701 non-null  object\n",
            " 1   Target  22704 non-null  object\n",
            "dtypes: object(2)\n",
            "memory usage: 354.9+ KB\n"
          ],
          "name": "stdout"
        }
      ]
    },
    {
      "cell_type": "code",
      "metadata": {
        "colab": {
          "base_uri": "https://localhost:8080/",
          "height": 207
        },
        "id": "EEPk8NT-2AZL",
        "outputId": "1a2858b1-ba53-4aec-acf6-f305374dd862"
      },
      "source": [
        "print(data.shape)\n",
        "\n",
        "num_of_classes = len(data.Target.unique())\n",
        "print(num_of_classes)\n",
        "\n",
        "data.describe()"
      ],
      "execution_count": 5,
      "outputs": [
        {
          "output_type": "stream",
          "text": [
            "(22704, 2)\n",
            "11\n"
          ],
          "name": "stdout"
        },
        {
          "output_type": "execute_result",
          "data": {
            "text/html": [
              "<div>\n",
              "<style scoped>\n",
              "    .dataframe tbody tr th:only-of-type {\n",
              "        vertical-align: middle;\n",
              "    }\n",
              "\n",
              "    .dataframe tbody tr th {\n",
              "        vertical-align: top;\n",
              "    }\n",
              "\n",
              "    .dataframe thead th {\n",
              "        text-align: right;\n",
              "    }\n",
              "</style>\n",
              "<table border=\"1\" class=\"dataframe\">\n",
              "  <thead>\n",
              "    <tr style=\"text-align: right;\">\n",
              "      <th></th>\n",
              "      <th>Text</th>\n",
              "      <th>Target</th>\n",
              "    </tr>\n",
              "  </thead>\n",
              "  <tbody>\n",
              "    <tr>\n",
              "      <th>count</th>\n",
              "      <td>22701</td>\n",
              "      <td>22704</td>\n",
              "    </tr>\n",
              "    <tr>\n",
              "      <th>unique</th>\n",
              "      <td>20986</td>\n",
              "      <td>11</td>\n",
              "    </tr>\n",
              "    <tr>\n",
              "      <th>top</th>\n",
              "      <td>billion</td>\n",
              "      <td>FinTech</td>\n",
              "    </tr>\n",
              "    <tr>\n",
              "      <th>freq</th>\n",
              "      <td>41</td>\n",
              "      <td>8551</td>\n",
              "    </tr>\n",
              "  </tbody>\n",
              "</table>\n",
              "</div>"
            ],
            "text/plain": [
              "           Text   Target\n",
              "count     22701    22704\n",
              "unique    20986       11\n",
              "top     billion  FinTech\n",
              "freq         41     8551"
            ]
          },
          "metadata": {
            "tags": []
          },
          "execution_count": 5
        }
      ]
    },
    {
      "cell_type": "markdown",
      "metadata": {
        "id": "aqkpuasD1UQc"
      },
      "source": [
        "#We can see in the above result that the text column has 22701 entries whereas the target column has 22704 entries. As we already know sample size is 22704, it means there are three null or NAN values in the Text column."
      ]
    },
    {
      "cell_type": "code",
      "metadata": {
        "colab": {
          "base_uri": "https://localhost:8080/",
          "height": 452
        },
        "id": "jbn2fVTU1zJq",
        "outputId": "58724b33-760e-45f5-c473-90cab133c680"
      },
      "source": [
        "data.groupby('Target').describe()"
      ],
      "execution_count": 6,
      "outputs": [
        {
          "output_type": "execute_result",
          "data": {
            "text/html": [
              "<div>\n",
              "<style scoped>\n",
              "    .dataframe tbody tr th:only-of-type {\n",
              "        vertical-align: middle;\n",
              "    }\n",
              "\n",
              "    .dataframe tbody tr th {\n",
              "        vertical-align: top;\n",
              "    }\n",
              "\n",
              "    .dataframe thead tr th {\n",
              "        text-align: left;\n",
              "    }\n",
              "\n",
              "    .dataframe thead tr:last-of-type th {\n",
              "        text-align: right;\n",
              "    }\n",
              "</style>\n",
              "<table border=\"1\" class=\"dataframe\">\n",
              "  <thead>\n",
              "    <tr>\n",
              "      <th></th>\n",
              "      <th colspan=\"4\" halign=\"left\">Text</th>\n",
              "    </tr>\n",
              "    <tr>\n",
              "      <th></th>\n",
              "      <th>count</th>\n",
              "      <th>unique</th>\n",
              "      <th>top</th>\n",
              "      <th>freq</th>\n",
              "    </tr>\n",
              "    <tr>\n",
              "      <th>Target</th>\n",
              "      <th></th>\n",
              "      <th></th>\n",
              "      <th></th>\n",
              "      <th></th>\n",
              "    </tr>\n",
              "  </thead>\n",
              "  <tbody>\n",
              "    <tr>\n",
              "      <th>Bigdata</th>\n",
              "      <td>2267</td>\n",
              "      <td>1792</td>\n",
              "      <td>ncbi</td>\n",
              "      <td>27</td>\n",
              "    </tr>\n",
              "    <tr>\n",
              "      <th>Blockchain</th>\n",
              "      <td>1375</td>\n",
              "      <td>1324</td>\n",
              "      <td>billion</td>\n",
              "      <td>4</td>\n",
              "    </tr>\n",
              "    <tr>\n",
              "      <th>Cyber Security</th>\n",
              "      <td>2640</td>\n",
              "      <td>2472</td>\n",
              "      <td>para</td>\n",
              "      <td>28</td>\n",
              "    </tr>\n",
              "    <tr>\n",
              "      <th>Data Security</th>\n",
              "      <td>347</td>\n",
              "      <td>347</td>\n",
              "      <td>social engineering unauthorized device access ...</td>\n",
              "      <td>1</td>\n",
              "    </tr>\n",
              "    <tr>\n",
              "      <th>FinTech</th>\n",
              "      <td>8551</td>\n",
              "      <td>8354</td>\n",
              "      <td>versus</td>\n",
              "      <td>17</td>\n",
              "    </tr>\n",
              "    <tr>\n",
              "      <th>Microservices</th>\n",
              "      <td>974</td>\n",
              "      <td>967</td>\n",
              "      <td>Table</td>\n",
              "      <td>5</td>\n",
              "    </tr>\n",
              "    <tr>\n",
              "      <th>Neobanks</th>\n",
              "      <td>1069</td>\n",
              "      <td>940</td>\n",
              "      <td>billion</td>\n",
              "      <td>11</td>\n",
              "    </tr>\n",
              "    <tr>\n",
              "      <th>Reg Tech</th>\n",
              "      <td>2206</td>\n",
              "      <td>1734</td>\n",
              "      <td>perma</td>\n",
              "      <td>16</td>\n",
              "    </tr>\n",
              "    <tr>\n",
              "      <th>Robo Advising</th>\n",
              "      <td>737</td>\n",
              "      <td>731</td>\n",
              "      <td>average</td>\n",
              "      <td>3</td>\n",
              "    </tr>\n",
              "    <tr>\n",
              "      <th>Stock Trading</th>\n",
              "      <td>787</td>\n",
              "      <td>778</td>\n",
              "      <td>equity market</td>\n",
              "      <td>2</td>\n",
              "    </tr>\n",
              "    <tr>\n",
              "      <th>credit reporting</th>\n",
              "      <td>1748</td>\n",
              "      <td>1664</td>\n",
              "      <td>billion</td>\n",
              "      <td>9</td>\n",
              "    </tr>\n",
              "  </tbody>\n",
              "</table>\n",
              "</div>"
            ],
            "text/plain": [
              "                  Text  ...     \n",
              "                 count  ... freq\n",
              "Target                  ...     \n",
              "Bigdata           2267  ...   27\n",
              "Blockchain        1375  ...    4\n",
              "Cyber Security    2640  ...   28\n",
              "Data Security      347  ...    1\n",
              "FinTech           8551  ...   17\n",
              "Microservices      974  ...    5\n",
              "Neobanks          1069  ...   11\n",
              "Reg Tech          2206  ...   16\n",
              "Robo Advising      737  ...    3\n",
              "Stock Trading      787  ...    2\n",
              "credit reporting  1748  ...    9\n",
              "\n",
              "[11 rows x 4 columns]"
            ]
          },
          "metadata": {
            "tags": []
          },
          "execution_count": 6
        }
      ]
    },
    {
      "cell_type": "markdown",
      "metadata": {
        "id": "-Njr83i62ZZN"
      },
      "source": [
        "# This table helps us in understanding the distribution of each class, the unique values in the texts, the most repeated words and their frequencies in each class. Lets see this pictographically."
      ]
    },
    {
      "cell_type": "code",
      "metadata": {
        "colab": {
          "base_uri": "https://localhost:8080/",
          "height": 456
        },
        "id": "tBRNxcl_3FdU",
        "outputId": "8e58f97e-9fee-4fea-825a-00197fc899c6"
      },
      "source": [
        "fig = plt.figure(figsize=(8,6))\n",
        "data.groupby('Target').Text.count().plot.bar(ylim=0)\n",
        "plt.show()"
      ],
      "execution_count": 7,
      "outputs": [
        {
          "output_type": "display_data",
          "data": {
            "image/png": "[encoded data removed]",
            "text/plain": [
              "<Figure size 576x432 with 1 Axes>"
            ]
          },
          "metadata": {
            "tags": [],
            "needs_background": "light"
          }
        }
      ]
    },
    {
      "cell_type": "markdown",
      "metadata": {
        "id": "PZf2QuYQ4BXO"
      },
      "source": [
        "# We can clearly see from the graph that there is class imbalance and our model may be biased towards the class with maximum frequency."
      ]
    },
    {
      "cell_type": "markdown",
      "metadata": {
        "id": "k9bL5-bk3QuK"
      },
      "source": [
        "# Lets see the top 10 text data"
      ]
    },
    {
      "cell_type": "code",
      "metadata": {
        "colab": {
          "base_uri": "https://localhost:8080/",
          "height": 390
        },
        "id": "8Y4YfMCl3qNw",
        "outputId": "ce4d1d13-bbab-4a79-f076-0f6738e8279a"
      },
      "source": [
        "topMessages = data.groupby(\"Text\")[\"Target\"].agg([len, np.max]).sort_values(by = \"len\", ascending = False).head(n = 10)\n",
        "display(topMessages)"
      ],
      "execution_count": 8,
      "outputs": [
        {
          "output_type": "display_data",
          "data": {
            "text/html": [
              "<div>\n",
              "<style scoped>\n",
              "    .dataframe tbody tr th:only-of-type {\n",
              "        vertical-align: middle;\n",
              "    }\n",
              "\n",
              "    .dataframe tbody tr th {\n",
              "        vertical-align: top;\n",
              "    }\n",
              "\n",
              "    .dataframe thead th {\n",
              "        text-align: right;\n",
              "    }\n",
              "</style>\n",
              "<table border=\"1\" class=\"dataframe\">\n",
              "  <thead>\n",
              "    <tr style=\"text-align: right;\">\n",
              "      <th></th>\n",
              "      <th>len</th>\n",
              "      <th>amax</th>\n",
              "    </tr>\n",
              "    <tr>\n",
              "      <th>Text</th>\n",
              "      <th></th>\n",
              "      <th></th>\n",
              "    </tr>\n",
              "  </thead>\n",
              "  <tbody>\n",
              "    <tr>\n",
              "      <th>billion</th>\n",
              "      <td>41</td>\n",
              "      <td>credit reporting</td>\n",
              "    </tr>\n",
              "    <tr>\n",
              "      <th>para</th>\n",
              "      <td>31</td>\n",
              "      <td>FinTech</td>\n",
              "    </tr>\n",
              "    <tr>\n",
              "      <th>ncbi</th>\n",
              "      <td>27</td>\n",
              "      <td>Bigdata</td>\n",
              "    </tr>\n",
              "    <tr>\n",
              "      <th>retrieved october</th>\n",
              "      <td>21</td>\n",
              "      <td>Bigdata</td>\n",
              "    </tr>\n",
              "    <tr>\n",
              "      <th>versus</th>\n",
              "      <td>17</td>\n",
              "      <td>FinTech</td>\n",
              "    </tr>\n",
              "    <tr>\n",
              "      <th>perma</th>\n",
              "      <td>16</td>\n",
              "      <td>Reg Tech</td>\n",
              "    </tr>\n",
              "    <tr>\n",
              "      <th>corpusid</th>\n",
              "      <td>16</td>\n",
              "      <td>Bigdata</td>\n",
              "    </tr>\n",
              "    <tr>\n",
              "      <th>issn</th>\n",
              "      <td>16</td>\n",
              "      <td>Bigdata</td>\n",
              "    </tr>\n",
              "    <tr>\n",
              "      <th>data</th>\n",
              "      <td>15</td>\n",
              "      <td>credit reporting</td>\n",
              "    </tr>\n",
              "    <tr>\n",
              "      <th>pmid pubmed</th>\n",
              "      <td>15</td>\n",
              "      <td>Bigdata</td>\n",
              "    </tr>\n",
              "  </tbody>\n",
              "</table>\n",
              "</div>"
            ],
            "text/plain": [
              "                   len              amax\n",
              "Text                                    \n",
              "billion             41  credit reporting\n",
              "para                31           FinTech\n",
              "ncbi                27           Bigdata\n",
              "retrieved october   21           Bigdata\n",
              "versus              17           FinTech\n",
              "perma               16          Reg Tech\n",
              "corpusid            16           Bigdata\n",
              "issn                16           Bigdata\n",
              "data                15  credit reporting\n",
              "pmid pubmed         15           Bigdata"
            ]
          },
          "metadata": {
            "tags": []
          }
        }
      ]
    },
    {
      "cell_type": "markdown",
      "metadata": {
        "id": "kHaqnLmg4jhF"
      },
      "source": [
        ""
      ]
    },
    {
      "cell_type": "code",
      "metadata": {
        "colab": {
          "base_uri": "https://localhost:8080/"
        },
        "id": "MNP46sPr4i2H",
        "outputId": "30459e81-527f-420a-d2fa-65cf970e64ab"
      },
      "source": [
        "data['length'] = data['Text'].str.len()\n",
        "\n",
        "print (data.head())"
      ],
      "execution_count": 9,
      "outputs": [
        {
          "output_type": "stream",
          "text": [
            "                                                Text      Target  length\n",
            "0  reserve bank forming expert committee based in...  Blockchain   157.0\n",
            "1          director could play role financial system  Blockchain    41.0\n",
            "2  preliminary discuss secure transaction study r...  Blockchain    61.0\n",
            "3  security indeed prove essential transforming f...  Blockchain   109.0\n",
            "4  bank settlement normally take three days based...  Blockchain   102.0\n"
          ],
          "name": "stdout"
        }
      ]
    },
    {
      "cell_type": "code",
      "metadata": {
        "colab": {
          "base_uri": "https://localhost:8080/",
          "height": 282
        },
        "id": "TLwJBlfv8sub",
        "outputId": "76d52a41-4fd7-4ca9-eb2c-cdec7503d313"
      },
      "source": [
        "data.length.plot(bins=100, kind='hist')"
      ],
      "execution_count": 10,
      "outputs": [
        {
          "output_type": "execute_result",
          "data": {
            "text/plain": [
              "<matplotlib.axes._subplots.AxesSubplot at 0x7f0cdacbd310>"
            ]
          },
          "metadata": {
            "tags": []
          },
          "execution_count": 10
        },
        {
          "output_type": "display_data",
          "data": {
            "image/png": "[encoded data removed]",
            "text/plain": [
              "<Figure size 432x288 with 1 Axes>"
            ]
          },
          "metadata": {
            "tags": [],
            "needs_background": "light"
          }
        }
      ]
    },
    {
      "cell_type": "markdown",
      "metadata": {
        "id": "zaQtQDJu9HDe"
      },
      "source": [
        "#We can see here maximum texts contain number of words in the range of [0, 200]."
      ]
    },
    {
      "cell_type": "markdown",
      "metadata": {
        "id": "wnP0yNPUe9Qt"
      },
      "source": [
        "#Lets convert Target class into numeric form"
      ]
    },
    {
      "cell_type": "code",
      "metadata": {
        "colab": {
          "base_uri": "https://localhost:8080/",
          "height": 204
        },
        "id": "Aer5odRRA9Xy",
        "outputId": "03d4acb5-3e16-41b9-e507-e5cdc59e5b43"
      },
      "source": [
        "from io import StringIO\n",
        "col = ['Text', 'Target']\n",
        "data = data[col]\n",
        "data = data[pd.notnull(data['Text'])]\n",
        "data.columns = ['Text', 'Target']\n",
        "data['category_id'] = data['Target'].factorize()[0]\n",
        "category_id_data = data[['Target', 'category_id']].drop_duplicates().sort_values('category_id')\n",
        "category_to_id = dict(category_id_data.values)\n",
        "id_to_category = dict(category_id_data[['category_id', 'Target']].values)\n",
        "data.head()"
      ],
      "execution_count": 11,
      "outputs": [
        {
          "output_type": "execute_result",
          "data": {
            "text/html": [
              "<div>\n",
              "<style scoped>\n",
              "    .dataframe tbody tr th:only-of-type {\n",
              "        vertical-align: middle;\n",
              "    }\n",
              "\n",
              "    .dataframe tbody tr th {\n",
              "        vertical-align: top;\n",
              "    }\n",
              "\n",
              "    .dataframe thead th {\n",
              "        text-align: right;\n",
              "    }\n",
              "</style>\n",
              "<table border=\"1\" class=\"dataframe\">\n",
              "  <thead>\n",
              "    <tr style=\"text-align: right;\">\n",
              "      <th></th>\n",
              "      <th>Text</th>\n",
              "      <th>Target</th>\n",
              "      <th>category_id</th>\n",
              "    </tr>\n",
              "  </thead>\n",
              "  <tbody>\n",
              "    <tr>\n",
              "      <th>0</th>\n",
              "      <td>reserve bank forming expert committee based in...</td>\n",
              "      <td>Blockchain</td>\n",
              "      <td>0</td>\n",
              "    </tr>\n",
              "    <tr>\n",
              "      <th>1</th>\n",
              "      <td>director could play role financial system</td>\n",
              "      <td>Blockchain</td>\n",
              "      <td>0</td>\n",
              "    </tr>\n",
              "    <tr>\n",
              "      <th>2</th>\n",
              "      <td>preliminary discuss secure transaction study r...</td>\n",
              "      <td>Blockchain</td>\n",
              "      <td>0</td>\n",
              "    </tr>\n",
              "    <tr>\n",
              "      <th>3</th>\n",
              "      <td>security indeed prove essential transforming f...</td>\n",
              "      <td>Blockchain</td>\n",
              "      <td>0</td>\n",
              "    </tr>\n",
              "    <tr>\n",
              "      <th>4</th>\n",
              "      <td>bank settlement normally take three days based...</td>\n",
              "      <td>Blockchain</td>\n",
              "      <td>0</td>\n",
              "    </tr>\n",
              "  </tbody>\n",
              "</table>\n",
              "</div>"
            ],
            "text/plain": [
              "                                                Text      Target  category_id\n",
              "0  reserve bank forming expert committee based in...  Blockchain            0\n",
              "1          director could play role financial system  Blockchain            0\n",
              "2  preliminary discuss secure transaction study r...  Blockchain            0\n",
              "3  security indeed prove essential transforming f...  Blockchain            0\n",
              "4  bank settlement normally take three days based...  Blockchain            0"
            ]
          },
          "metadata": {
            "tags": []
          },
          "execution_count": 11
        }
      ]
    },
    {
      "cell_type": "code",
      "metadata": {
        "colab": {
          "base_uri": "https://localhost:8080/",
          "height": 357
        },
        "id": "ast8XH3rfhXc",
        "outputId": "4606d1ac-c631-46ba-f400-e911c236b7aa"
      },
      "source": [
        "data['Target'].value_counts().plot(kind = 'pie',figsize = (6,6),autopct = \"%1.2f%%\")\n",
        "\n",
        "plt.show()"
      ],
      "execution_count": 12,
      "outputs": [
        {
          "output_type": "display_data",
          "data": {
            "image/png": "[encoded data removed]",
            "text/plain": [
              "<Figure size 432x432 with 1 Axes>"
            ]
          },
          "metadata": {
            "tags": []
          }
        }
      ]
    },
    {
      "cell_type": "markdown",
      "metadata": {
        "id": "r3Yn75cpfqSF"
      },
      "source": [
        "#Word Vectorization"
      ]
    },
    {
      "cell_type": "code",
      "metadata": {
        "colab": {
          "base_uri": "https://localhost:8080/"
        },
        "id": "wxc2FESDBMqi",
        "outputId": "e6bdf510-0763-4ee3-ddb0-06a069307f6f"
      },
      "source": [
        "from sklearn.feature_extraction.text import TfidfVectorizer\n",
        "tfidf = TfidfVectorizer(encoding='latin-1')\n",
        "features = tfidf.fit_transform(data.Text).toarray()\n",
        "\n",
        "features.shape"
      ],
      "execution_count": 13,
      "outputs": [
        {
          "output_type": "execute_result",
          "data": {
            "text/plain": [
              "(22701, 11409)"
            ]
          },
          "metadata": {
            "tags": []
          },
          "execution_count": 13
        }
      ]
    },
    {
      "cell_type": "code",
      "metadata": {
        "colab": {
          "base_uri": "https://localhost:8080/"
        },
        "id": "nFesADeTBX9I",
        "outputId": "b73ee534-ad1e-4875-8642-00693a430c22"
      },
      "source": [
        "features"
      ],
      "execution_count": 14,
      "outputs": [
        {
          "output_type": "execute_result",
          "data": {
            "text/plain": [
              "array([[0., 0., 0., ..., 0., 0., 0.],\n",
              "       [0., 0., 0., ..., 0., 0., 0.],\n",
              "       [0., 0., 0., ..., 0., 0., 0.],\n",
              "       ...,\n",
              "       [0., 0., 0., ..., 0., 0., 0.],\n",
              "       [0., 0., 0., ..., 0., 0., 0.],\n",
              "       [0., 0., 0., ..., 0., 0., 0.]])"
            ]
          },
          "metadata": {
            "tags": []
          },
          "execution_count": 14
        }
      ]
    },
    {
      "cell_type": "code",
      "metadata": {
        "colab": {
          "base_uri": "https://localhost:8080/"
        },
        "id": "1W7qvCO10BpV",
        "outputId": "2a520b00-7cfe-402a-fdb6-630f0d98f59b"
      },
      "source": [
        "y = data['category_id']\n",
        "\n",
        "y"
      ],
      "execution_count": 15,
      "outputs": [
        {
          "output_type": "execute_result",
          "data": {
            "text/plain": [
              "0         0\n",
              "1         0\n",
              "2         0\n",
              "3         0\n",
              "4         0\n",
              "         ..\n",
              "22699    10\n",
              "22700    10\n",
              "22701    10\n",
              "22702    10\n",
              "22703    10\n",
              "Name: category_id, Length: 22701, dtype: int64"
            ]
          },
          "metadata": {
            "tags": []
          },
          "execution_count": 15
        }
      ]
    },
    {
      "cell_type": "markdown",
      "metadata": {
        "id": "TiCsxSVYbx3D"
      },
      "source": [
        "# Splitting the dataset into train and test datasets"
      ]
    },
    {
      "cell_type": "code",
      "metadata": {
        "colab": {
          "base_uri": "https://localhost:8080/"
        },
        "id": "_wJb3FCONJGv",
        "outputId": "474839f4-9753-452a-ec2a-f1d3850e1407"
      },
      "source": [
        "from sklearn.model_selection import train_test_split\n",
        "from sklearn.feature_extraction.text import CountVectorizer\n",
        "from sklearn.feature_extraction.text import TfidfTransformer\n",
        "from sklearn.naive_bayes import MultinomialNB\n",
        "\n",
        "\n",
        "X_train, X_test, y_train, y_test = train_test_split(features, y, random_state=42, test_size=0.2)\n",
        "\n",
        "print(\"Training Data:\",X_train.shape,y_train.shape )\n",
        "\n",
        "print(\"Testing Data:\", X_test.shape,y_test.shape)\n",
        "\n",
        "\n",
        "\n"
      ],
      "execution_count": 18,
      "outputs": [
        {
          "output_type": "stream",
          "text": [
            "Training Data: (18160, 11409) (18160,)\n",
            "Testing Data: (4541, 11409) (4541,)\n"
          ],
          "name": "stdout"
        }
      ]
    },
    {
      "cell_type": "markdown",
      "metadata": {
        "id": "qNzYCqswb_aA"
      },
      "source": [
        "# Applying Multinomial Bayes Theorem to the dataset"
      ]
    },
    {
      "cell_type": "code",
      "metadata": {
        "colab": {
          "base_uri": "https://localhost:8080/"
        },
        "id": "Gc0xgNFX43FT",
        "outputId": "726f53df-62ae-4c94-bf0f-dc86fbbbc8be"
      },
      "source": [
        "from sklearn.naive_bayes import MultinomialNB\n",
        "model = MultinomialNB().fit(X_train,y_train)\n",
        "y_pred = model.predict(X_test)\n",
        "print(\"Accuracy = \", accuracy_score(y_test,y_pred))"
      ],
      "execution_count": 26,
      "outputs": [
        {
          "output_type": "stream",
          "text": [
            "Accuracy =  0.5316009689495705\n"
          ],
          "name": "stdout"
        }
      ]
    },
    {
      "cell_type": "markdown",
      "metadata": {
        "id": "P6fAaIDocLSC"
      },
      "source": [
        "# Let us see the Classification Report which gives us Precision, Recall, F1 Score and Support Values."
      ]
    },
    {
      "cell_type": "code",
      "metadata": {
        "colab": {
          "base_uri": "https://localhost:8080/"
        },
        "id": "jBNiDD5c59oe",
        "outputId": "5f3ec3a0-539e-40aa-a20f-64aa66e3516c"
      },
      "source": [
        "print(classification_report(y_test,y_pred,target_names =data['Target'].unique()))"
      ],
      "execution_count": 27,
      "outputs": [
        {
          "output_type": "stream",
          "text": [
            "                  precision    recall  f1-score   support\n",
            "\n",
            "      Blockchain       0.89      0.06      0.12       259\n",
            "         Bigdata       0.97      0.56      0.71       474\n",
            "credit reporting       0.80      0.07      0.12       358\n",
            "  Cyber Security       0.78      0.25      0.38       519\n",
            "         FinTech       0.45      0.99      0.62      1725\n",
            "   Microservices       1.00      0.02      0.04       181\n",
            "        Neobanks       1.00      0.00      0.01       201\n",
            "   Robo Advising       0.00      0.00      0.00       157\n",
            "   Stock Trading       1.00      0.03      0.05       160\n",
            "   Data Security       0.00      0.00      0.00        78\n",
            "        Reg Tech       0.93      0.60      0.73       429\n",
            "\n",
            "        accuracy                           0.53      4541\n",
            "       macro avg       0.71      0.23      0.25      4541\n",
            "    weighted avg       0.68      0.53      0.44      4541\n",
            "\n"
          ],
          "name": "stdout"
        }
      ]
    },
    {
      "cell_type": "markdown",
      "metadata": {
        "id": "OCE5ZjUOckZl"
      },
      "source": [
        "# Lets check how effective our model is"
      ]
    },
    {
      "cell_type": "code",
      "metadata": {
        "colab": {
          "base_uri": "https://localhost:8080/",
          "height": 419
        },
        "id": "pO97pUnP6pT9",
        "outputId": "53ee17be-47bb-497d-93d7-54dc78507d95"
      },
      "source": [
        "check = pd.DataFrame({\"actual\":y_test,\"predicted\":y_pred})\n",
        "check"
      ],
      "execution_count": 28,
      "outputs": [
        {
          "output_type": "execute_result",
          "data": {
            "text/html": [
              "<div>\n",
              "<style scoped>\n",
              "    .dataframe tbody tr th:only-of-type {\n",
              "        vertical-align: middle;\n",
              "    }\n",
              "\n",
              "    .dataframe tbody tr th {\n",
              "        vertical-align: top;\n",
              "    }\n",
              "\n",
              "    .dataframe thead th {\n",
              "        text-align: right;\n",
              "    }\n",
              "</style>\n",
              "<table border=\"1\" class=\"dataframe\">\n",
              "  <thead>\n",
              "    <tr style=\"text-align: right;\">\n",
              "      <th></th>\n",
              "      <th>actual</th>\n",
              "      <th>predicted</th>\n",
              "    </tr>\n",
              "  </thead>\n",
              "  <tbody>\n",
              "    <tr>\n",
              "      <th>9421</th>\n",
              "      <td>4</td>\n",
              "      <td>4</td>\n",
              "    </tr>\n",
              "    <tr>\n",
              "      <th>16923</th>\n",
              "      <td>5</td>\n",
              "      <td>4</td>\n",
              "    </tr>\n",
              "    <tr>\n",
              "      <th>10404</th>\n",
              "      <td>4</td>\n",
              "      <td>4</td>\n",
              "    </tr>\n",
              "    <tr>\n",
              "      <th>16056</th>\n",
              "      <td>4</td>\n",
              "      <td>4</td>\n",
              "    </tr>\n",
              "    <tr>\n",
              "      <th>1063</th>\n",
              "      <td>0</td>\n",
              "      <td>4</td>\n",
              "    </tr>\n",
              "    <tr>\n",
              "      <th>...</th>\n",
              "      <td>...</td>\n",
              "      <td>...</td>\n",
              "    </tr>\n",
              "    <tr>\n",
              "      <th>140</th>\n",
              "      <td>0</td>\n",
              "      <td>4</td>\n",
              "    </tr>\n",
              "    <tr>\n",
              "      <th>8588</th>\n",
              "      <td>4</td>\n",
              "      <td>4</td>\n",
              "    </tr>\n",
              "    <tr>\n",
              "      <th>15551</th>\n",
              "      <td>4</td>\n",
              "      <td>4</td>\n",
              "    </tr>\n",
              "    <tr>\n",
              "      <th>14307</th>\n",
              "      <td>4</td>\n",
              "      <td>4</td>\n",
              "    </tr>\n",
              "    <tr>\n",
              "      <th>13314</th>\n",
              "      <td>4</td>\n",
              "      <td>4</td>\n",
              "    </tr>\n",
              "  </tbody>\n",
              "</table>\n",
              "<p>4541 rows × 2 columns</p>\n",
              "</div>"
            ],
            "text/plain": [
              "       actual  predicted\n",
              "9421        4          4\n",
              "16923       5          4\n",
              "10404       4          4\n",
              "16056       4          4\n",
              "1063        0          4\n",
              "...       ...        ...\n",
              "140         0          4\n",
              "8588        4          4\n",
              "15551       4          4\n",
              "14307       4          4\n",
              "13314       4          4\n",
              "\n",
              "[4541 rows x 2 columns]"
            ]
          },
          "metadata": {
            "tags": []
          },
          "execution_count": 28
        }
      ]
    },
    {
      "cell_type": "markdown",
      "metadata": {
        "id": "70I-ES75NIXa"
      },
      "source": [
        "# We can see that the dataset is biased towards '4' that is Fintech, this may be due to class imbalance. "
      ]
    },
    {
      "cell_type": "markdown",
      "metadata": {
        "id": "42bIe4i8Haga"
      },
      "source": [
        "#**Model Selection**\n",
        "#We are now ready to experiment with different machine learning models, evaluate their accuracy and find the source of any potential issues.\n",
        "#We will benchmark the following four models:\n",
        "#Logistic Regression\n",
        "#(Multinomial) Naive Bayes\n",
        "#Linear Support Vector Machine\n",
        "#Random Forest"
      ]
    },
    {
      "cell_type": "code",
      "metadata": {
        "colab": {
          "base_uri": "https://localhost:8080/",
          "height": 280
        },
        "id": "RV-hgNUsHppP",
        "outputId": "ce8043a2-d8d7-4b79-96a5-7929a2fd7270"
      },
      "source": [
        "from sklearn.linear_model import LogisticRegression\n",
        "from sklearn.ensemble import RandomForestClassifier\n",
        "from sklearn.svm import LinearSVC\n",
        "from sklearn.model_selection import cross_val_score\n",
        "models = [\n",
        "    RandomForestClassifier(n_estimators=200, max_depth=3, random_state=0),\n",
        "    LinearSVC(),\n",
        "    MultinomialNB(),\n",
        "    LogisticRegression(random_state=0),\n",
        "]\n",
        "CV = 5\n",
        "cv_df = pd.DataFrame(index=range(CV * len(models)))\n",
        "entries = []\n",
        "for model in models:\n",
        "  model_name = model.__class__.__name__\n",
        "  accuracies = cross_val_score(model, features, y, scoring='accuracy', cv=CV)\n",
        "  for fold_idx, accuracy in enumerate(accuracies):\n",
        "    entries.append((model_name, fold_idx, accuracy))\n",
        "cv_df = pd.DataFrame(entries, columns=['model_name', 'fold_idx', 'accuracy'])\n",
        "import seaborn as sns\n",
        "sns.boxplot(x='model_name', y='accuracy', data=cv_df)\n",
        "sns.stripplot(x='model_name', y='accuracy', data=cv_df, \n",
        "              size=8, jitter=True, edgecolor=\"gray\", linewidth=2)\n",
        "plt.show()"
      ],
      "execution_count": 29,
      "outputs": [
        {
          "output_type": "display_data",
          "data": {
            "image/png": "[encoded data removed]",
            "text/plain": [
              "<Figure size 432x288 with 1 Axes>"
            ]
          },
          "metadata": {
            "tags": [],
            "needs_background": "light"
          }
        }
      ]
    },
    {
      "cell_type": "code",
      "metadata": {
        "colab": {
          "base_uri": "https://localhost:8080/"
        },
        "id": "_ihszsc8KSVM",
        "outputId": "5fa383cf-4597-4762-f290-97b84d76b254"
      },
      "source": [
        "cv_df.groupby('model_name').accuracy.mean()"
      ],
      "execution_count": 30,
      "outputs": [
        {
          "output_type": "execute_result",
          "data": {
            "text/plain": [
              "model_name\n",
              "LinearSVC                 0.567291\n",
              "LogisticRegression        0.567907\n",
              "MultinomialNB             0.488658\n",
              "RandomForestClassifier    0.376679\n",
              "Name: accuracy, dtype: float64"
            ]
          },
          "metadata": {
            "tags": []
          },
          "execution_count": 30
        }
      ]
    },
    {
      "cell_type": "markdown",
      "metadata": {
        "id": "4N7KstgNKhMO"
      },
      "source": [
        "#LinearSVC and Logistic Regression perform better than the other two classifiers, with a median accuracy of around 56%.\n",
        "# The other two classifiers i.e. Multinomial NB and Random Forest are showing less than 50% accuracy on this dataset, whereas while applied individually Multinomial NB showed 53.16% accuracy.\n"
      ]
    },
    {
      "cell_type": "markdown",
      "metadata": {
        "id": "oX6jIop-K4Ot"
      },
      "source": [
        "#**Conclusion**\n",
        "# 1. We can use our best model (LinearSVC) or Logistic Regression to solve the problem.\n",
        "# 2. According to me the low accuracy is a cause of concern and I think this may be because of class imbalance. To overcome this we have to use Oversampling or Undersampling Technique. \n",
        "# 3. Maybe we should approach the dataset with Deep learning and solve the existing problem by using RNN-LSTM Model."
      ]
    }
  ]
}